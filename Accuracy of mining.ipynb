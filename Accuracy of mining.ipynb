{
 "cells": [
  {
   "cell_type": "markdown",
   "metadata": {},
   "source": [
    "### Gauusian method"
   ]
  },
  {
   "cell_type": "code",
   "execution_count": 1,
   "metadata": {},
   "outputs": [],
   "source": [
    "import numpy as np\n",
    "import pandas as pd\n",
    "\n",
    "#####Data Set####\n",
    "df=pd.read_csv(\"MiningProcess_Flotation_Plant_Database.csv\",nrows=10000)"
   ]
  },
  {
   "cell_type": "code",
   "execution_count": 2,
   "metadata": {
    "scrolled": true
   },
   "outputs": [
    {
     "data": {
      "text/plain": [
       "Index(['date', '% Iron Feed', '% Silica Feed', 'Starch Flow', 'Amina Flow',\n",
       "       'Ore Pulp Flow', 'Ore Pulp pH', 'Ore Pulp Density',\n",
       "       'Flotation Column 01 Air Flow', 'Flotation Column 02 Air Flow',\n",
       "       'Flotation Column 03 Air Flow', 'Flotation Column 04 Air Flow',\n",
       "       'Flotation Column 05 Air Flow', 'Flotation Column 06 Air Flow',\n",
       "       'Flotation Column 07 Air Flow', 'Flotation Column 01 Level',\n",
       "       'Flotation Column 02 Level', 'Flotation Column 03 Level',\n",
       "       'Flotation Column 04 Level', 'Flotation Column 05 Level',\n",
       "       'Flotation Column 06 Level', 'Flotation Column 07 Level',\n",
       "       '% Iron Concentrate', '% Silica Concentrate'],\n",
       "      dtype='object')"
      ]
     },
     "execution_count": 2,
     "metadata": {},
     "output_type": "execute_result"
    }
   ],
   "source": [
    "df.columns"
   ]
  },
  {
   "cell_type": "code",
   "execution_count": 3,
   "metadata": {},
   "outputs": [
    {
     "data": {
      "text/html": [
       "<div>\n",
       "<style scoped>\n",
       "    .dataframe tbody tr th:only-of-type {\n",
       "        vertical-align: middle;\n",
       "    }\n",
       "\n",
       "    .dataframe tbody tr th {\n",
       "        vertical-align: top;\n",
       "    }\n",
       "\n",
       "    .dataframe thead th {\n",
       "        text-align: right;\n",
       "    }\n",
       "</style>\n",
       "<table border=\"1\" class=\"dataframe\">\n",
       "  <thead>\n",
       "    <tr style=\"text-align: right;\">\n",
       "      <th></th>\n",
       "      <th>date</th>\n",
       "      <th>% Iron Feed</th>\n",
       "      <th>% Silica Feed</th>\n",
       "      <th>Starch Flow</th>\n",
       "      <th>Amina Flow</th>\n",
       "      <th>Ore Pulp Flow</th>\n",
       "      <th>Ore Pulp pH</th>\n",
       "      <th>Ore Pulp Density</th>\n",
       "      <th>Flotation Column 01 Air Flow</th>\n",
       "      <th>Flotation Column 02 Air Flow</th>\n",
       "      <th>...</th>\n",
       "      <th>Flotation Column 07 Air Flow</th>\n",
       "      <th>Flotation Column 01 Level</th>\n",
       "      <th>Flotation Column 02 Level</th>\n",
       "      <th>Flotation Column 03 Level</th>\n",
       "      <th>Flotation Column 04 Level</th>\n",
       "      <th>Flotation Column 05 Level</th>\n",
       "      <th>Flotation Column 06 Level</th>\n",
       "      <th>Flotation Column 07 Level</th>\n",
       "      <th>% Iron Concentrate</th>\n",
       "      <th>% Silica Concentrate</th>\n",
       "    </tr>\n",
       "  </thead>\n",
       "  <tbody>\n",
       "    <tr>\n",
       "      <th>0</th>\n",
       "      <td>2017-03-10 01:00:00</td>\n",
       "      <td>55,2</td>\n",
       "      <td>16,98</td>\n",
       "      <td>3019,53</td>\n",
       "      <td>557,434</td>\n",
       "      <td>395,713</td>\n",
       "      <td>10,0664</td>\n",
       "      <td>1,74</td>\n",
       "      <td>249,214</td>\n",
       "      <td>253,235</td>\n",
       "      <td>...</td>\n",
       "      <td>250,884</td>\n",
       "      <td>457,396</td>\n",
       "      <td>432,962</td>\n",
       "      <td>424,954</td>\n",
       "      <td>443,558</td>\n",
       "      <td>502,255</td>\n",
       "      <td>446,37</td>\n",
       "      <td>523,344</td>\n",
       "      <td>66,91</td>\n",
       "      <td>1,31</td>\n",
       "    </tr>\n",
       "    <tr>\n",
       "      <th>1</th>\n",
       "      <td>2017-03-10 01:00:00</td>\n",
       "      <td>55,2</td>\n",
       "      <td>16,98</td>\n",
       "      <td>3024,41</td>\n",
       "      <td>563,965</td>\n",
       "      <td>397,383</td>\n",
       "      <td>10,0672</td>\n",
       "      <td>1,74</td>\n",
       "      <td>249,719</td>\n",
       "      <td>250,532</td>\n",
       "      <td>...</td>\n",
       "      <td>248,994</td>\n",
       "      <td>451,891</td>\n",
       "      <td>429,56</td>\n",
       "      <td>432,939</td>\n",
       "      <td>448,086</td>\n",
       "      <td>496,363</td>\n",
       "      <td>445,922</td>\n",
       "      <td>498,075</td>\n",
       "      <td>66,91</td>\n",
       "      <td>1,31</td>\n",
       "    </tr>\n",
       "  </tbody>\n",
       "</table>\n",
       "<p>2 rows × 24 columns</p>\n",
       "</div>"
      ],
      "text/plain": [
       "                  date % Iron Feed % Silica Feed Starch Flow Amina Flow  \\\n",
       "0  2017-03-10 01:00:00        55,2         16,98     3019,53    557,434   \n",
       "1  2017-03-10 01:00:00        55,2         16,98     3024,41    563,965   \n",
       "\n",
       "  Ore Pulp Flow Ore Pulp pH Ore Pulp Density Flotation Column 01 Air Flow  \\\n",
       "0       395,713     10,0664             1,74                      249,214   \n",
       "1       397,383     10,0672             1,74                      249,719   \n",
       "\n",
       "  Flotation Column 02 Air Flow  ... Flotation Column 07 Air Flow  \\\n",
       "0                      253,235  ...                      250,884   \n",
       "1                      250,532  ...                      248,994   \n",
       "\n",
       "  Flotation Column 01 Level Flotation Column 02 Level  \\\n",
       "0                   457,396                   432,962   \n",
       "1                   451,891                    429,56   \n",
       "\n",
       "  Flotation Column 03 Level Flotation Column 04 Level  \\\n",
       "0                   424,954                   443,558   \n",
       "1                   432,939                   448,086   \n",
       "\n",
       "  Flotation Column 05 Level Flotation Column 06 Level  \\\n",
       "0                   502,255                    446,37   \n",
       "1                   496,363                   445,922   \n",
       "\n",
       "  Flotation Column 07 Level % Iron Concentrate % Silica Concentrate  \n",
       "0                   523,344              66,91                 1,31  \n",
       "1                   498,075              66,91                 1,31  \n",
       "\n",
       "[2 rows x 24 columns]"
      ]
     },
     "execution_count": 3,
     "metadata": {},
     "output_type": "execute_result"
    }
   ],
   "source": [
    "df.head(2)"
   ]
  },
  {
   "cell_type": "code",
   "execution_count": 4,
   "metadata": {},
   "outputs": [],
   "source": [
    "df=df.replace(',','',regex=True)"
   ]
  },
  {
   "cell_type": "code",
   "execution_count": 5,
   "metadata": {},
   "outputs": [
    {
     "data": {
      "text/plain": [
       "date                            False\n",
       "% Iron Feed                     False\n",
       "% Silica Feed                   False\n",
       "Starch Flow                     False\n",
       "Amina Flow                      False\n",
       "Ore Pulp Flow                   False\n",
       "Ore Pulp pH                     False\n",
       "Ore Pulp Density                False\n",
       "Flotation Column 01 Air Flow    False\n",
       "Flotation Column 02 Air Flow    False\n",
       "Flotation Column 03 Air Flow    False\n",
       "Flotation Column 04 Air Flow    False\n",
       "Flotation Column 05 Air Flow    False\n",
       "Flotation Column 06 Air Flow    False\n",
       "Flotation Column 07 Air Flow    False\n",
       "Flotation Column 01 Level       False\n",
       "Flotation Column 02 Level       False\n",
       "Flotation Column 03 Level       False\n",
       "Flotation Column 04 Level       False\n",
       "Flotation Column 05 Level       False\n",
       "Flotation Column 06 Level       False\n",
       "Flotation Column 07 Level       False\n",
       "% Iron Concentrate              False\n",
       "% Silica Concentrate            False\n",
       "dtype: bool"
      ]
     },
     "execution_count": 5,
     "metadata": {},
     "output_type": "execute_result"
    }
   ],
   "source": [
    "df.isna().any()"
   ]
  },
  {
   "cell_type": "code",
   "execution_count": 6,
   "metadata": {},
   "outputs": [
    {
     "data": {
      "text/plain": [
       "date                            0\n",
       "% Iron Feed                     0\n",
       "% Silica Feed                   0\n",
       "Starch Flow                     0\n",
       "Amina Flow                      0\n",
       "Ore Pulp Flow                   0\n",
       "Ore Pulp pH                     0\n",
       "Ore Pulp Density                0\n",
       "Flotation Column 01 Air Flow    0\n",
       "Flotation Column 02 Air Flow    0\n",
       "Flotation Column 03 Air Flow    0\n",
       "Flotation Column 04 Air Flow    0\n",
       "Flotation Column 05 Air Flow    0\n",
       "Flotation Column 06 Air Flow    0\n",
       "Flotation Column 07 Air Flow    0\n",
       "Flotation Column 01 Level       0\n",
       "Flotation Column 02 Level       0\n",
       "Flotation Column 03 Level       0\n",
       "Flotation Column 04 Level       0\n",
       "Flotation Column 05 Level       0\n",
       "Flotation Column 06 Level       0\n",
       "Flotation Column 07 Level       0\n",
       "% Iron Concentrate              0\n",
       "% Silica Concentrate            0\n",
       "dtype: int64"
      ]
     },
     "execution_count": 6,
     "metadata": {},
     "output_type": "execute_result"
    }
   ],
   "source": [
    "df.isna().sum()"
   ]
  },
  {
   "cell_type": "code",
   "execution_count": 7,
   "metadata": {},
   "outputs": [
    {
     "data": {
      "text/html": [
       "<div>\n",
       "<style scoped>\n",
       "    .dataframe tbody tr th:only-of-type {\n",
       "        vertical-align: middle;\n",
       "    }\n",
       "\n",
       "    .dataframe tbody tr th {\n",
       "        vertical-align: top;\n",
       "    }\n",
       "\n",
       "    .dataframe thead th {\n",
       "        text-align: right;\n",
       "    }\n",
       "</style>\n",
       "<table border=\"1\" class=\"dataframe\">\n",
       "  <thead>\n",
       "    <tr style=\"text-align: right;\">\n",
       "      <th></th>\n",
       "      <th>date</th>\n",
       "      <th>% Iron Feed</th>\n",
       "      <th>% Silica Feed</th>\n",
       "      <th>Starch Flow</th>\n",
       "      <th>Amina Flow</th>\n",
       "      <th>Ore Pulp Flow</th>\n",
       "      <th>Ore Pulp pH</th>\n",
       "      <th>Ore Pulp Density</th>\n",
       "      <th>Flotation Column 01 Air Flow</th>\n",
       "      <th>Flotation Column 02 Air Flow</th>\n",
       "      <th>...</th>\n",
       "      <th>Flotation Column 07 Air Flow</th>\n",
       "      <th>Flotation Column 01 Level</th>\n",
       "      <th>Flotation Column 02 Level</th>\n",
       "      <th>Flotation Column 03 Level</th>\n",
       "      <th>Flotation Column 04 Level</th>\n",
       "      <th>Flotation Column 05 Level</th>\n",
       "      <th>Flotation Column 06 Level</th>\n",
       "      <th>Flotation Column 07 Level</th>\n",
       "      <th>% Iron Concentrate</th>\n",
       "      <th>% Silica Concentrate</th>\n",
       "    </tr>\n",
       "  </thead>\n",
       "  <tbody>\n",
       "    <tr>\n",
       "      <th>count</th>\n",
       "      <td>10000</td>\n",
       "      <td>10000</td>\n",
       "      <td>10000</td>\n",
       "      <td>10000</td>\n",
       "      <td>10000</td>\n",
       "      <td>10000</td>\n",
       "      <td>10000</td>\n",
       "      <td>10000</td>\n",
       "      <td>10000</td>\n",
       "      <td>10000</td>\n",
       "      <td>...</td>\n",
       "      <td>10000</td>\n",
       "      <td>10000</td>\n",
       "      <td>10000</td>\n",
       "      <td>10000</td>\n",
       "      <td>10000</td>\n",
       "      <td>10000</td>\n",
       "      <td>10000</td>\n",
       "      <td>10000</td>\n",
       "      <td>10000</td>\n",
       "      <td>10000</td>\n",
       "    </tr>\n",
       "    <tr>\n",
       "      <th>unique</th>\n",
       "      <td>56</td>\n",
       "      <td>8</td>\n",
       "      <td>7</td>\n",
       "      <td>7783</td>\n",
       "      <td>4937</td>\n",
       "      <td>2589</td>\n",
       "      <td>7707</td>\n",
       "      <td>3985</td>\n",
       "      <td>1028</td>\n",
       "      <td>1583</td>\n",
       "      <td>...</td>\n",
       "      <td>979</td>\n",
       "      <td>3241</td>\n",
       "      <td>7454</td>\n",
       "      <td>6165</td>\n",
       "      <td>8638</td>\n",
       "      <td>7917</td>\n",
       "      <td>5557</td>\n",
       "      <td>8263</td>\n",
       "      <td>49</td>\n",
       "      <td>51</td>\n",
       "    </tr>\n",
       "    <tr>\n",
       "      <th>top</th>\n",
       "      <td>2017-03-10 20:00:00</td>\n",
       "      <td>5599</td>\n",
       "      <td>898</td>\n",
       "      <td>34043</td>\n",
       "      <td>547485</td>\n",
       "      <td>397852</td>\n",
       "      <td>103735</td>\n",
       "      <td>175</td>\n",
       "      <td>24895</td>\n",
       "      <td>250488</td>\n",
       "      <td>...</td>\n",
       "      <td>250269</td>\n",
       "      <td>550537</td>\n",
       "      <td>54885</td>\n",
       "      <td>55412</td>\n",
       "      <td>550</td>\n",
       "      <td>54197</td>\n",
       "      <td>5595</td>\n",
       "      <td>54183</td>\n",
       "      <td>6621</td>\n",
       "      <td>3865</td>\n",
       "    </tr>\n",
       "    <tr>\n",
       "      <th>freq</th>\n",
       "      <td>180</td>\n",
       "      <td>1620</td>\n",
       "      <td>1620</td>\n",
       "      <td>11</td>\n",
       "      <td>24</td>\n",
       "      <td>56</td>\n",
       "      <td>31</td>\n",
       "      <td>1481</td>\n",
       "      <td>177</td>\n",
       "      <td>76</td>\n",
       "      <td>...</td>\n",
       "      <td>252</td>\n",
       "      <td>84</td>\n",
       "      <td>33</td>\n",
       "      <td>34</td>\n",
       "      <td>10</td>\n",
       "      <td>22</td>\n",
       "      <td>23</td>\n",
       "      <td>17</td>\n",
       "      <td>720</td>\n",
       "      <td>360</td>\n",
       "    </tr>\n",
       "  </tbody>\n",
       "</table>\n",
       "<p>4 rows × 24 columns</p>\n",
       "</div>"
      ],
      "text/plain": [
       "                       date % Iron Feed % Silica Feed Starch Flow Amina Flow  \\\n",
       "count                 10000       10000         10000       10000      10000   \n",
       "unique                   56           8             7        7783       4937   \n",
       "top     2017-03-10 20:00:00        5599           898       34043     547485   \n",
       "freq                    180        1620          1620          11         24   \n",
       "\n",
       "       Ore Pulp Flow Ore Pulp pH Ore Pulp Density  \\\n",
       "count          10000       10000            10000   \n",
       "unique          2589        7707             3985   \n",
       "top           397852      103735              175   \n",
       "freq              56          31             1481   \n",
       "\n",
       "       Flotation Column 01 Air Flow Flotation Column 02 Air Flow  ...  \\\n",
       "count                         10000                        10000  ...   \n",
       "unique                         1028                         1583  ...   \n",
       "top                           24895                       250488  ...   \n",
       "freq                            177                           76  ...   \n",
       "\n",
       "       Flotation Column 07 Air Flow Flotation Column 01 Level  \\\n",
       "count                         10000                     10000   \n",
       "unique                          979                      3241   \n",
       "top                          250269                    550537   \n",
       "freq                            252                        84   \n",
       "\n",
       "       Flotation Column 02 Level Flotation Column 03 Level  \\\n",
       "count                      10000                     10000   \n",
       "unique                      7454                      6165   \n",
       "top                        54885                     55412   \n",
       "freq                          33                        34   \n",
       "\n",
       "       Flotation Column 04 Level Flotation Column 05 Level  \\\n",
       "count                      10000                     10000   \n",
       "unique                      8638                      7917   \n",
       "top                          550                     54197   \n",
       "freq                          10                        22   \n",
       "\n",
       "       Flotation Column 06 Level Flotation Column 07 Level % Iron Concentrate  \\\n",
       "count                      10000                     10000              10000   \n",
       "unique                      5557                      8263                 49   \n",
       "top                         5595                     54183               6621   \n",
       "freq                          23                        17                720   \n",
       "\n",
       "       % Silica Concentrate  \n",
       "count                 10000  \n",
       "unique                   51  \n",
       "top                    3865  \n",
       "freq                    360  \n",
       "\n",
       "[4 rows x 24 columns]"
      ]
     },
     "execution_count": 7,
     "metadata": {},
     "output_type": "execute_result"
    }
   ],
   "source": [
    " df.describe(include='all')"
   ]
  },
  {
   "cell_type": "code",
   "execution_count": 8,
   "metadata": {},
   "outputs": [
    {
     "name": "stdout",
     "output_type": "stream",
     "text": [
      "<class 'pandas.core.frame.DataFrame'>\n",
      "RangeIndex: 10000 entries, 0 to 9999\n",
      "Data columns (total 24 columns):\n",
      " #   Column                        Non-Null Count  Dtype \n",
      "---  ------                        --------------  ----- \n",
      " 0   date                          10000 non-null  object\n",
      " 1   % Iron Feed                   10000 non-null  object\n",
      " 2   % Silica Feed                 10000 non-null  object\n",
      " 3   Starch Flow                   10000 non-null  object\n",
      " 4   Amina Flow                    10000 non-null  object\n",
      " 5   Ore Pulp Flow                 10000 non-null  object\n",
      " 6   Ore Pulp pH                   10000 non-null  object\n",
      " 7   Ore Pulp Density              10000 non-null  object\n",
      " 8   Flotation Column 01 Air Flow  10000 non-null  object\n",
      " 9   Flotation Column 02 Air Flow  10000 non-null  object\n",
      " 10  Flotation Column 03 Air Flow  10000 non-null  object\n",
      " 11  Flotation Column 04 Air Flow  10000 non-null  object\n",
      " 12  Flotation Column 05 Air Flow  10000 non-null  object\n",
      " 13  Flotation Column 06 Air Flow  10000 non-null  object\n",
      " 14  Flotation Column 07 Air Flow  10000 non-null  object\n",
      " 15  Flotation Column 01 Level     10000 non-null  object\n",
      " 16  Flotation Column 02 Level     10000 non-null  object\n",
      " 17  Flotation Column 03 Level     10000 non-null  object\n",
      " 18  Flotation Column 04 Level     10000 non-null  object\n",
      " 19  Flotation Column 05 Level     10000 non-null  object\n",
      " 20  Flotation Column 06 Level     10000 non-null  object\n",
      " 21  Flotation Column 07 Level     10000 non-null  object\n",
      " 22  % Iron Concentrate            10000 non-null  object\n",
      " 23  % Silica Concentrate          10000 non-null  object\n",
      "dtypes: object(24)\n",
      "memory usage: 1.8+ MB\n"
     ]
    }
   ],
   "source": [
    "df.info()"
   ]
  },
  {
   "cell_type": "code",
   "execution_count": 9,
   "metadata": {},
   "outputs": [
    {
     "data": {
      "text/plain": [
       "0       2017-03-10 01:00:00\n",
       "1       2017-03-10 01:00:00\n",
       "2       2017-03-10 01:00:00\n",
       "3       2017-03-10 01:00:00\n",
       "4       2017-03-10 01:00:00\n",
       "               ...         \n",
       "9995    2017-03-12 08:00:00\n",
       "9996    2017-03-12 08:00:00\n",
       "9997    2017-03-12 08:00:00\n",
       "9998    2017-03-12 08:00:00\n",
       "9999    2017-03-12 08:00:00\n",
       "Name: date, Length: 10000, dtype: object"
      ]
     },
     "execution_count": 9,
     "metadata": {},
     "output_type": "execute_result"
    }
   ],
   "source": [
    "df.date"
   ]
  },
  {
   "cell_type": "code",
   "execution_count": 10,
   "metadata": {},
   "outputs": [],
   "source": [
    "strdata=df['date']"
   ]
  },
  {
   "cell_type": "code",
   "execution_count": 11,
   "metadata": {},
   "outputs": [
    {
     "data": {
      "text/plain": [
       "pandas.core.series.Series"
      ]
     },
     "execution_count": 11,
     "metadata": {},
     "output_type": "execute_result"
    }
   ],
   "source": [
    "type(strdata)"
   ]
  },
  {
   "cell_type": "code",
   "execution_count": 12,
   "metadata": {},
   "outputs": [
    {
     "data": {
      "text/plain": [
       "False"
      ]
     },
     "execution_count": 12,
     "metadata": {},
     "output_type": "execute_result"
    }
   ],
   "source": [
    "strdata.isna().any()"
   ]
  },
  {
   "cell_type": "code",
   "execution_count": 13,
   "metadata": {},
   "outputs": [],
   "source": [
    "strdata=pd.to_datetime(strdata,format='%Y-%m-%d %H:%M:%S')"
   ]
  },
  {
   "cell_type": "code",
   "execution_count": 14,
   "metadata": {
    "scrolled": false
   },
   "outputs": [
    {
     "data": {
      "text/plain": [
       "0      2017-03-10 01:00:00\n",
       "1      2017-03-10 01:00:00\n",
       "2      2017-03-10 01:00:00\n",
       "3      2017-03-10 01:00:00\n",
       "4      2017-03-10 01:00:00\n",
       "               ...        \n",
       "9995   2017-03-12 08:00:00\n",
       "9996   2017-03-12 08:00:00\n",
       "9997   2017-03-12 08:00:00\n",
       "9998   2017-03-12 08:00:00\n",
       "9999   2017-03-12 08:00:00\n",
       "Name: date, Length: 10000, dtype: datetime64[ns]"
      ]
     },
     "execution_count": 14,
     "metadata": {},
     "output_type": "execute_result"
    }
   ],
   "source": [
    "strdata"
   ]
  },
  {
   "cell_type": "code",
   "execution_count": 15,
   "metadata": {},
   "outputs": [
    {
     "data": {
      "text/plain": [
       "<bound method Series.view of 0      2017-03-10 01:00:00\n",
       "1      2017-03-10 01:00:00\n",
       "2      2017-03-10 01:00:00\n",
       "3      2017-03-10 01:00:00\n",
       "4      2017-03-10 01:00:00\n",
       "               ...        \n",
       "9995   2017-03-12 08:00:00\n",
       "9996   2017-03-12 08:00:00\n",
       "9997   2017-03-12 08:00:00\n",
       "9998   2017-03-12 08:00:00\n",
       "9999   2017-03-12 08:00:00\n",
       "Name: date, Length: 10000, dtype: datetime64[ns]>"
      ]
     },
     "execution_count": 15,
     "metadata": {},
     "output_type": "execute_result"
    }
   ],
   "source": [
    "strdata.view"
   ]
  },
  {
   "cell_type": "code",
   "execution_count": 16,
   "metadata": {},
   "outputs": [
    {
     "data": {
      "text/plain": [
       "pandas.core.series.Series"
      ]
     },
     "execution_count": 16,
     "metadata": {},
     "output_type": "execute_result"
    }
   ],
   "source": [
    "type(strdata)"
   ]
  },
  {
   "cell_type": "code",
   "execution_count": 17,
   "metadata": {},
   "outputs": [
    {
     "data": {
      "text/plain": [
       "0       2017-03-10 01:00:00\n",
       "1       2017-03-10 01:00:00\n",
       "2       2017-03-10 01:00:00\n",
       "3       2017-03-10 01:00:00\n",
       "4       2017-03-10 01:00:00\n",
       "               ...         \n",
       "9995    2017-03-12 08:00:00\n",
       "9996    2017-03-12 08:00:00\n",
       "9997    2017-03-12 08:00:00\n",
       "9998    2017-03-12 08:00:00\n",
       "9999    2017-03-12 08:00:00\n",
       "Name: date, Length: 10000, dtype: object"
      ]
     },
     "execution_count": 17,
     "metadata": {},
     "output_type": "execute_result"
    }
   ],
   "source": [
    "df['date']"
   ]
  },
  {
   "cell_type": "code",
   "execution_count": 18,
   "metadata": {},
   "outputs": [],
   "source": [
    "from sklearn.naive_bayes import GaussianNB\n",
    "from sklearn.naive_bayes import MultinomialNB\n",
    "from sklearn.model_selection import train_test_split\n",
    "from sklearn.metrics import confusion_matrix\n",
    "\n",
    "ip=['% Iron Feed', '% Silica Feed', 'Starch Flow', 'Amina Flow',\n",
    "       'Ore Pulp Flow', 'Ore Pulp pH', 'Ore Pulp Density',\n",
    "       'Flotation Column 01 Air Flow', 'Flotation Column 02 Air Flow',\n",
    "       'Flotation Column 03 Air Flow', 'Flotation Column 04 Air Flow',\n",
    "       'Flotation Column 05 Air Flow', 'Flotation Column 06 Air Flow',\n",
    "       'Flotation Column 07 Air Flow', 'Flotation Column 01 Level',\n",
    "       'Flotation Column 02 Level', 'Flotation Column 03 Level',\n",
    "       'Flotation Column 04 Level', 'Flotation Column 05 Level',\n",
    "       'Flotation Column 06 Level', 'Flotation Column 07 Level',\n",
    "       '% Iron Concentrate',]\n",
    "op=['% Silica Concentrate']\n"
   ]
  },
  {
   "cell_type": "code",
   "execution_count": 19,
   "metadata": {},
   "outputs": [],
   "source": [
    "xtrain,xtest,ytrain,ytest=train_test_split(df[ip],df[op],test_size=0.2,random_state=1)\n"
   ]
  },
  {
   "cell_type": "code",
   "execution_count": 20,
   "metadata": {},
   "outputs": [],
   "source": [
    "ignb=GaussianNB()\n",
    "imnb=MultinomialNB()"
   ]
  },
  {
   "cell_type": "code",
   "execution_count": 21,
   "metadata": {},
   "outputs": [
    {
     "data": {
      "text/plain": [
       "pandas.core.series.Series"
      ]
     },
     "execution_count": 21,
     "metadata": {},
     "output_type": "execute_result"
    }
   ],
   "source": [
    "type(df.date)"
   ]
  },
  {
   "cell_type": "code",
   "execution_count": 22,
   "metadata": {},
   "outputs": [
    {
     "name": "stderr",
     "output_type": "stream",
     "text": [
      "C:\\Users\\lenovo\\anaconda3\\lib\\site-packages\\sklearn\\utils\\validation.py:72: DataConversionWarning: A column-vector y was passed when a 1d array was expected. Please change the shape of y to (n_samples, ), for example using ravel().\n",
      "  return f(**kwargs)\n"
     ]
    }
   ],
   "source": [
    "pred_mnb=imnb.fit(xtrain,ytrain).predict(xtest)"
   ]
  },
  {
   "cell_type": "code",
   "execution_count": 23,
   "metadata": {},
   "outputs": [
    {
     "name": "stderr",
     "output_type": "stream",
     "text": [
      "C:\\Users\\lenovo\\anaconda3\\lib\\site-packages\\sklearn\\utils\\validation.py:72: DataConversionWarning: A column-vector y was passed when a 1d array was expected. Please change the shape of y to (n_samples, ), for example using ravel().\n",
      "  return f(**kwargs)\n"
     ]
    }
   ],
   "source": [
    "pred_gnb=ignb.fit(xtrain,ytrain).predict(xtest)"
   ]
  },
  {
   "cell_type": "code",
   "execution_count": 24,
   "metadata": {},
   "outputs": [
    {
     "data": {
      "text/plain": [
       "Index([], dtype='object')"
      ]
     },
     "execution_count": 24,
     "metadata": {},
     "output_type": "execute_result"
    }
   ],
   "source": [
    "df.columns[df.isin(['a']).any()]"
   ]
  },
  {
   "cell_type": "code",
   "execution_count": 25,
   "metadata": {},
   "outputs": [],
   "source": [
    "confusion_matrix(ytest,pred_gnb)\n",
    "pd.crosstab(ytest.values.flatten(),pred_gnb)\n",
    "accdf=np.mean(ytest.values.flatten()==pred_gnb)"
   ]
  },
  {
   "cell_type": "code",
   "execution_count": 26,
   "metadata": {},
   "outputs": [
    {
     "name": "stdout",
     "output_type": "stream",
     "text": [
      "accuracy of mining using gaussian method 0.0635\n"
     ]
    }
   ],
   "source": [
    "print(\"accuracy of mining using gaussian method\",accdf)"
   ]
  },
  {
   "cell_type": "code",
   "execution_count": 27,
   "metadata": {},
   "outputs": [],
   "source": [
    "confusion_matrix(ytest,pred_mnb)\n",
    "pd.crosstab(ytest.values.flatten(),pred_mnb)\n",
    "accdfa=np.mean(ytest.values.flatten()==pred_mnb)\n"
   ]
  },
  {
   "cell_type": "code",
   "execution_count": 28,
   "metadata": {},
   "outputs": [
    {
     "name": "stdout",
     "output_type": "stream",
     "text": [
      "accuracy of mining using 0.09\n"
     ]
    }
   ],
   "source": [
    "print(\"accuracy of mining using\",accdfa)"
   ]
  },
  {
   "cell_type": "markdown",
   "metadata": {},
   "source": [
    "## KNC method"
   ]
  },
  {
   "cell_type": "code",
   "execution_count": 29,
   "metadata": {},
   "outputs": [],
   "source": [
    "from sklearn.neighbors import KNeighborsClassifier as KNC"
   ]
  },
  {
   "cell_type": "code",
   "execution_count": 30,
   "metadata": {},
   "outputs": [
    {
     "name": "stderr",
     "output_type": "stream",
     "text": [
      "<ipython-input-30-6d8954c29c8b>:4: DataConversionWarning: A column-vector y was passed when a 1d array was expected. Please change the shape of y to (n_samples, ), for example using ravel().\n",
      "  knnmodel.fit(xtrain,ytrain)\n",
      "<ipython-input-30-6d8954c29c8b>:4: DataConversionWarning: A column-vector y was passed when a 1d array was expected. Please change the shape of y to (n_samples, ), for example using ravel().\n",
      "  knnmodel.fit(xtrain,ytrain)\n",
      "<ipython-input-30-6d8954c29c8b>:4: DataConversionWarning: A column-vector y was passed when a 1d array was expected. Please change the shape of y to (n_samples, ), for example using ravel().\n",
      "  knnmodel.fit(xtrain,ytrain)\n",
      "<ipython-input-30-6d8954c29c8b>:4: DataConversionWarning: A column-vector y was passed when a 1d array was expected. Please change the shape of y to (n_samples, ), for example using ravel().\n",
      "  knnmodel.fit(xtrain,ytrain)\n",
      "<ipython-input-30-6d8954c29c8b>:4: DataConversionWarning: A column-vector y was passed when a 1d array was expected. Please change the shape of y to (n_samples, ), for example using ravel().\n",
      "  knnmodel.fit(xtrain,ytrain)\n",
      "<ipython-input-30-6d8954c29c8b>:4: DataConversionWarning: A column-vector y was passed when a 1d array was expected. Please change the shape of y to (n_samples, ), for example using ravel().\n",
      "  knnmodel.fit(xtrain,ytrain)\n",
      "<ipython-input-30-6d8954c29c8b>:4: DataConversionWarning: A column-vector y was passed when a 1d array was expected. Please change the shape of y to (n_samples, ), for example using ravel().\n",
      "  knnmodel.fit(xtrain,ytrain)\n",
      "<ipython-input-30-6d8954c29c8b>:4: DataConversionWarning: A column-vector y was passed when a 1d array was expected. Please change the shape of y to (n_samples, ), for example using ravel().\n",
      "  knnmodel.fit(xtrain,ytrain)\n",
      "<ipython-input-30-6d8954c29c8b>:4: DataConversionWarning: A column-vector y was passed when a 1d array was expected. Please change the shape of y to (n_samples, ), for example using ravel().\n",
      "  knnmodel.fit(xtrain,ytrain)\n",
      "<ipython-input-30-6d8954c29c8b>:4: DataConversionWarning: A column-vector y was passed when a 1d array was expected. Please change the shape of y to (n_samples, ), for example using ravel().\n",
      "  knnmodel.fit(xtrain,ytrain)\n",
      "<ipython-input-30-6d8954c29c8b>:4: DataConversionWarning: A column-vector y was passed when a 1d array was expected. Please change the shape of y to (n_samples, ), for example using ravel().\n",
      "  knnmodel.fit(xtrain,ytrain)\n",
      "<ipython-input-30-6d8954c29c8b>:4: DataConversionWarning: A column-vector y was passed when a 1d array was expected. Please change the shape of y to (n_samples, ), for example using ravel().\n",
      "  knnmodel.fit(xtrain,ytrain)\n",
      "<ipython-input-30-6d8954c29c8b>:4: DataConversionWarning: A column-vector y was passed when a 1d array was expected. Please change the shape of y to (n_samples, ), for example using ravel().\n",
      "  knnmodel.fit(xtrain,ytrain)\n",
      "<ipython-input-30-6d8954c29c8b>:4: DataConversionWarning: A column-vector y was passed when a 1d array was expected. Please change the shape of y to (n_samples, ), for example using ravel().\n",
      "  knnmodel.fit(xtrain,ytrain)\n",
      "<ipython-input-30-6d8954c29c8b>:4: DataConversionWarning: A column-vector y was passed when a 1d array was expected. Please change the shape of y to (n_samples, ), for example using ravel().\n",
      "  knnmodel.fit(xtrain,ytrain)\n",
      "<ipython-input-30-6d8954c29c8b>:4: DataConversionWarning: A column-vector y was passed when a 1d array was expected. Please change the shape of y to (n_samples, ), for example using ravel().\n",
      "  knnmodel.fit(xtrain,ytrain)\n",
      "<ipython-input-30-6d8954c29c8b>:4: DataConversionWarning: A column-vector y was passed when a 1d array was expected. Please change the shape of y to (n_samples, ), for example using ravel().\n",
      "  knnmodel.fit(xtrain,ytrain)\n",
      "<ipython-input-30-6d8954c29c8b>:4: DataConversionWarning: A column-vector y was passed when a 1d array was expected. Please change the shape of y to (n_samples, ), for example using ravel().\n",
      "  knnmodel.fit(xtrain,ytrain)\n",
      "<ipython-input-30-6d8954c29c8b>:4: DataConversionWarning: A column-vector y was passed when a 1d array was expected. Please change the shape of y to (n_samples, ), for example using ravel().\n",
      "  knnmodel.fit(xtrain,ytrain)\n",
      "<ipython-input-30-6d8954c29c8b>:4: DataConversionWarning: A column-vector y was passed when a 1d array was expected. Please change the shape of y to (n_samples, ), for example using ravel().\n",
      "  knnmodel.fit(xtrain,ytrain)\n",
      "<ipython-input-30-6d8954c29c8b>:4: DataConversionWarning: A column-vector y was passed when a 1d array was expected. Please change the shape of y to (n_samples, ), for example using ravel().\n",
      "  knnmodel.fit(xtrain,ytrain)\n",
      "<ipython-input-30-6d8954c29c8b>:4: DataConversionWarning: A column-vector y was passed when a 1d array was expected. Please change the shape of y to (n_samples, ), for example using ravel().\n",
      "  knnmodel.fit(xtrain,ytrain)\n",
      "<ipython-input-30-6d8954c29c8b>:4: DataConversionWarning: A column-vector y was passed when a 1d array was expected. Please change the shape of y to (n_samples, ), for example using ravel().\n",
      "  knnmodel.fit(xtrain,ytrain)\n",
      "<ipython-input-30-6d8954c29c8b>:4: DataConversionWarning: A column-vector y was passed when a 1d array was expected. Please change the shape of y to (n_samples, ), for example using ravel().\n",
      "  knnmodel.fit(xtrain,ytrain)\n"
     ]
    },
    {
     "name": "stdout",
     "output_type": "stream",
     "text": [
      "[[0.294, 3], [0.3005, 5], [0.299, 7], [0.2915, 9], [0.288, 11], [0.2845, 13], [0.278, 15], [0.275, 17], [0.2685, 19], [0.2655, 21], [0.263, 23], [0.263, 25], [0.2605, 27], [0.253, 29], [0.246, 31], [0.2495, 33], [0.2485, 35], [0.247, 37], [0.239, 39], [0.234, 41], [0.233, 43], [0.233, 45], [0.2345, 47], [0.2375, 49]]\n"
     ]
    }
   ],
   "source": [
    "acc=[]\n",
    "for i in range (3,50,2):\n",
    "    knnmodel=KNC(n_neighbors=i)\n",
    "    knnmodel.fit(xtrain,ytrain)\n",
    "    predknn=knnmodel.predict(xtest)\n",
    "    accknn=np.mean(predknn==ytest.values.flatten())\n",
    "    acc.append([accknn,i])\n",
    "print(acc)"
   ]
  },
  {
   "cell_type": "markdown",
   "metadata": {},
   "source": [
    "## Decision Tree Classifier "
   ]
  },
  {
   "cell_type": "code",
   "execution_count": 31,
   "metadata": {},
   "outputs": [
    {
     "name": "stdout",
     "output_type": "stream",
     "text": [
      "0.9995\n"
     ]
    }
   ],
   "source": [
    "from sklearn.tree import DecisionTreeClassifier as DTC\n",
    "dtcmodel=DTC(criterion=\"entropy\")\n",
    "dtcmodel.fit(xtrain,ytrain)\n",
    "preddtc=dtcmodel.predict(xtest)\n",
    "DecisionTreeClassifier=np.mean(preddtc==ytest.values.flatten())\n",
    "print(DecisionTreeClassifier)"
   ]
  },
  {
   "cell_type": "markdown",
   "metadata": {},
   "source": [
    "## Random Forest"
   ]
  },
  {
   "cell_type": "code",
   "execution_count": 73,
   "metadata": {
    "scrolled": true
   },
   "outputs": [
    {
     "name": "stderr",
     "output_type": "stream",
     "text": [
      "<ipython-input-73-5e130eb30907>:8: DataConversionWarning: A column-vector y was passed when a 1d array was expected. Please change the shape of y to (n_samples,), for example using ravel().\n",
      "  rclf.fit(xtrain,ytrain)\n"
     ]
    }
   ],
   "source": [
    "#Import Random Forest Model\n",
    "from sklearn.ensemble import RandomForestClassifier\n",
    "\n",
    "#Create a Gaussian Classifier\n",
    "rclf=RandomForestClassifier(n_estimators=100)\n",
    "\n",
    "#Train the model using the training sets y_pred=clf.predict(X_test)\n",
    "rclf.fit(xtrain,ytrain)\n",
    "\n",
    "y_pred=rclf.predict(xtest)"
   ]
  },
  {
   "cell_type": "code",
   "execution_count": 74,
   "metadata": {},
   "outputs": [],
   "source": [
    "from sklearn import metrics"
   ]
  },
  {
   "cell_type": "code",
   "execution_count": 75,
   "metadata": {},
   "outputs": [
    {
     "name": "stdout",
     "output_type": "stream",
     "text": [
      "Accuracy: 0.9965\n"
     ]
    }
   ],
   "source": [
    "print(\"Accuracy:\",metrics.accuracy_score(ytest, y_pred))"
   ]
  },
  {
   "cell_type": "code",
   "execution_count": null,
   "metadata": {},
   "outputs": [],
   "source": []
  },
  {
   "cell_type": "markdown",
   "metadata": {},
   "source": [
    "## Linear Regression"
   ]
  },
  {
   "cell_type": "code",
   "execution_count": 32,
   "metadata": {},
   "outputs": [],
   "source": [
    "import sklearn.ensemble as ensm\n",
    "import sklearn.tree as tree\n",
    "adb=ensm.AdaBoostClassifier(base_estimator=tree.DecisionTreeRegressor,n_estimators=0,learning_rate=1.0,algorithm='SAMME',random_state=None)"
   ]
  },
  {
   "cell_type": "code",
   "execution_count": 33,
   "metadata": {
    "scrolled": true
   },
   "outputs": [],
   "source": [
    "tree1=tree.DecisionTreeRegressor(criterion='mse',max_depth=4,random_state=0)\n"
   ]
  },
  {
   "cell_type": "code",
   "execution_count": 34,
   "metadata": {},
   "outputs": [
    {
     "data": {
      "text/plain": [
       "DecisionTreeRegressor(max_depth=4, random_state=0)"
      ]
     },
     "execution_count": 34,
     "metadata": {},
     "output_type": "execute_result"
    }
   ],
   "source": [
    "tree1.fit(xtrain,ytrain.values.reshape(-1,1))\n"
   ]
  },
  {
   "cell_type": "code",
   "execution_count": 35,
   "metadata": {
    "scrolled": true
   },
   "outputs": [
    {
     "data": {
      "text/html": [
       "<div>\n",
       "<style scoped>\n",
       "    .dataframe tbody tr th:only-of-type {\n",
       "        vertical-align: middle;\n",
       "    }\n",
       "\n",
       "    .dataframe tbody tr th {\n",
       "        vertical-align: top;\n",
       "    }\n",
       "\n",
       "    .dataframe thead th {\n",
       "        text-align: right;\n",
       "    }\n",
       "</style>\n",
       "<table border=\"1\" class=\"dataframe\">\n",
       "  <thead>\n",
       "    <tr style=\"text-align: right;\">\n",
       "      <th></th>\n",
       "      <th>% Iron Feed</th>\n",
       "      <th>% Silica Feed</th>\n",
       "      <th>Starch Flow</th>\n",
       "      <th>Amina Flow</th>\n",
       "      <th>Ore Pulp Flow</th>\n",
       "      <th>Ore Pulp pH</th>\n",
       "      <th>Ore Pulp Density</th>\n",
       "      <th>Flotation Column 01 Air Flow</th>\n",
       "      <th>Flotation Column 02 Air Flow</th>\n",
       "      <th>Flotation Column 03 Air Flow</th>\n",
       "      <th>...</th>\n",
       "      <th>Flotation Column 06 Air Flow</th>\n",
       "      <th>Flotation Column 07 Air Flow</th>\n",
       "      <th>Flotation Column 01 Level</th>\n",
       "      <th>Flotation Column 02 Level</th>\n",
       "      <th>Flotation Column 03 Level</th>\n",
       "      <th>Flotation Column 04 Level</th>\n",
       "      <th>Flotation Column 05 Level</th>\n",
       "      <th>Flotation Column 06 Level</th>\n",
       "      <th>Flotation Column 07 Level</th>\n",
       "      <th>% Iron Concentrate</th>\n",
       "    </tr>\n",
       "  </thead>\n",
       "  <tbody>\n",
       "    <tr>\n",
       "      <th>2694</th>\n",
       "      <td>5599</td>\n",
       "      <td>1716</td>\n",
       "      <td>538145</td>\n",
       "      <td>511475</td>\n",
       "      <td>386133</td>\n",
       "      <td>102279</td>\n",
       "      <td>178828</td>\n",
       "      <td>252246</td>\n",
       "      <td>255981</td>\n",
       "      <td>24939</td>\n",
       "      <td>...</td>\n",
       "      <td>249829</td>\n",
       "      <td>249829</td>\n",
       "      <td>550037</td>\n",
       "      <td>54885</td>\n",
       "      <td>55196</td>\n",
       "      <td>55781</td>\n",
       "      <td>56455</td>\n",
       "      <td>58862</td>\n",
       "      <td>53796</td>\n",
       "      <td>673</td>\n",
       "    </tr>\n",
       "    <tr>\n",
       "      <th>5140</th>\n",
       "      <td>6066</td>\n",
       "      <td>825</td>\n",
       "      <td>233203</td>\n",
       "      <td>316162</td>\n",
       "      <td>406113</td>\n",
       "      <td>987982</td>\n",
       "      <td>175867</td>\n",
       "      <td>251807</td>\n",
       "      <td>249346</td>\n",
       "      <td>250269</td>\n",
       "      <td>...</td>\n",
       "      <td>250313</td>\n",
       "      <td>250752</td>\n",
       "      <td>545232</td>\n",
       "      <td>54715</td>\n",
       "      <td>541926</td>\n",
       "      <td>402812</td>\n",
       "      <td>539326</td>\n",
       "      <td>543148</td>\n",
       "      <td>544808</td>\n",
       "      <td>6408</td>\n",
       "    </tr>\n",
       "    <tr>\n",
       "      <th>2568</th>\n",
       "      <td>5495</td>\n",
       "      <td>174</td>\n",
       "      <td>551055</td>\n",
       "      <td>512085</td>\n",
       "      <td>404297</td>\n",
       "      <td>102557</td>\n",
       "      <td>178</td>\n",
       "      <td>248752</td>\n",
       "      <td>252751</td>\n",
       "      <td>247368</td>\n",
       "      <td>...</td>\n",
       "      <td>249829</td>\n",
       "      <td>252708</td>\n",
       "      <td>547234</td>\n",
       "      <td>55304</td>\n",
       "      <td>540468</td>\n",
       "      <td>538788</td>\n",
       "      <td>577658</td>\n",
       "      <td>564988</td>\n",
       "      <td>558878</td>\n",
       "      <td>676</td>\n",
       "    </tr>\n",
       "    <tr>\n",
       "      <th>3671</th>\n",
       "      <td>5599</td>\n",
       "      <td>1716</td>\n",
       "      <td>559082</td>\n",
       "      <td>427979</td>\n",
       "      <td>392739</td>\n",
       "      <td>100976</td>\n",
       "      <td>168</td>\n",
       "      <td>248785</td>\n",
       "      <td>246797</td>\n",
       "      <td>250554</td>\n",
       "      <td>...</td>\n",
       "      <td>250291</td>\n",
       "      <td>249862</td>\n",
       "      <td>449113</td>\n",
       "      <td>480875</td>\n",
       "      <td>449288</td>\n",
       "      <td>481583</td>\n",
       "      <td>464504</td>\n",
       "      <td>424409</td>\n",
       "      <td>440996</td>\n",
       "      <td>6642</td>\n",
       "    </tr>\n",
       "    <tr>\n",
       "      <th>7427</th>\n",
       "      <td>5966</td>\n",
       "      <td>909</td>\n",
       "      <td>354082</td>\n",
       "      <td>541016</td>\n",
       "      <td>397002</td>\n",
       "      <td>989414</td>\n",
       "      <td>175217</td>\n",
       "      <td>248335</td>\n",
       "      <td>248225</td>\n",
       "      <td>248335</td>\n",
       "      <td>...</td>\n",
       "      <td>248862</td>\n",
       "      <td>250862</td>\n",
       "      <td>445034</td>\n",
       "      <td>444178</td>\n",
       "      <td>440493</td>\n",
       "      <td>442733</td>\n",
       "      <td>457535</td>\n",
       "      <td>455722</td>\n",
       "      <td>476439</td>\n",
       "      <td>6621</td>\n",
       "    </tr>\n",
       "    <tr>\n",
       "      <th>...</th>\n",
       "      <td>...</td>\n",
       "      <td>...</td>\n",
       "      <td>...</td>\n",
       "      <td>...</td>\n",
       "      <td>...</td>\n",
       "      <td>...</td>\n",
       "      <td>...</td>\n",
       "      <td>...</td>\n",
       "      <td>...</td>\n",
       "      <td>...</td>\n",
       "      <td>...</td>\n",
       "      <td>...</td>\n",
       "      <td>...</td>\n",
       "      <td>...</td>\n",
       "      <td>...</td>\n",
       "      <td>...</td>\n",
       "      <td>...</td>\n",
       "      <td>...</td>\n",
       "      <td>...</td>\n",
       "      <td>...</td>\n",
       "      <td>...</td>\n",
       "    </tr>\n",
       "    <tr>\n",
       "      <th>2895</th>\n",
       "      <td>5599</td>\n",
       "      <td>1716</td>\n",
       "      <td>513809</td>\n",
       "      <td>571655</td>\n",
       "      <td>401895</td>\n",
       "      <td>104419</td>\n",
       "      <td>178903</td>\n",
       "      <td>248027</td>\n",
       "      <td>24895</td>\n",
       "      <td>251455</td>\n",
       "      <td>...</td>\n",
       "      <td>250181</td>\n",
       "      <td>249829</td>\n",
       "      <td>531418</td>\n",
       "      <td>56165</td>\n",
       "      <td>561024</td>\n",
       "      <td>5607</td>\n",
       "      <td>553758</td>\n",
       "      <td>56409</td>\n",
       "      <td>5298</td>\n",
       "      <td>663</td>\n",
       "    </tr>\n",
       "    <tr>\n",
       "      <th>7813</th>\n",
       "      <td>5966</td>\n",
       "      <td>909</td>\n",
       "      <td>12379692</td>\n",
       "      <td>583557</td>\n",
       "      <td>398408</td>\n",
       "      <td>99486</td>\n",
       "      <td>178</td>\n",
       "      <td>250225</td>\n",
       "      <td>247083</td>\n",
       "      <td>248357</td>\n",
       "      <td>...</td>\n",
       "      <td>250444</td>\n",
       "      <td>250269</td>\n",
       "      <td>541178</td>\n",
       "      <td>2126383571429</td>\n",
       "      <td>550233</td>\n",
       "      <td>565386</td>\n",
       "      <td>554252</td>\n",
       "      <td>484394</td>\n",
       "      <td>499889</td>\n",
       "      <td>64565</td>\n",
       "    </tr>\n",
       "    <tr>\n",
       "      <th>905</th>\n",
       "      <td>552</td>\n",
       "      <td>1698</td>\n",
       "      <td>341699</td>\n",
       "      <td>613892</td>\n",
       "      <td>402188</td>\n",
       "      <td>973414</td>\n",
       "      <td>177</td>\n",
       "      <td>24939</td>\n",
       "      <td>254707</td>\n",
       "      <td>248291</td>\n",
       "      <td>...</td>\n",
       "      <td>250137</td>\n",
       "      <td>249917</td>\n",
       "      <td>559346</td>\n",
       "      <td>55032</td>\n",
       "      <td>553906</td>\n",
       "      <td>55711</td>\n",
       "      <td>553756</td>\n",
       "      <td>551884</td>\n",
       "      <td>561138</td>\n",
       "      <td>6685</td>\n",
       "    </tr>\n",
       "    <tr>\n",
       "      <th>5192</th>\n",
       "      <td>6066</td>\n",
       "      <td>825</td>\n",
       "      <td>242246</td>\n",
       "      <td>392487</td>\n",
       "      <td>401396</td>\n",
       "      <td>970914</td>\n",
       "      <td>175098</td>\n",
       "      <td>248137</td>\n",
       "      <td>251005</td>\n",
       "      <td>250038</td>\n",
       "      <td>...</td>\n",
       "      <td>247478</td>\n",
       "      <td>251191</td>\n",
       "      <td>554491</td>\n",
       "      <td>563011</td>\n",
       "      <td>548401</td>\n",
       "      <td>6655813333333</td>\n",
       "      <td>665263</td>\n",
       "      <td>603012</td>\n",
       "      <td>6337825</td>\n",
       "      <td>6408</td>\n",
       "    </tr>\n",
       "    <tr>\n",
       "      <th>235</th>\n",
       "      <td>552</td>\n",
       "      <td>1698</td>\n",
       "      <td>335742</td>\n",
       "      <td>503976</td>\n",
       "      <td>398354</td>\n",
       "      <td>101912</td>\n",
       "      <td>163859</td>\n",
       "      <td>249944</td>\n",
       "      <td>255657</td>\n",
       "      <td>248427</td>\n",
       "      <td>...</td>\n",
       "      <td>250059</td>\n",
       "      <td>249693</td>\n",
       "      <td>45287</td>\n",
       "      <td>419651</td>\n",
       "      <td>450319</td>\n",
       "      <td>481677</td>\n",
       "      <td>479311</td>\n",
       "      <td>432659</td>\n",
       "      <td>453102</td>\n",
       "      <td>6706</td>\n",
       "    </tr>\n",
       "  </tbody>\n",
       "</table>\n",
       "<p>8000 rows × 22 columns</p>\n",
       "</div>"
      ],
      "text/plain": [
       "     % Iron Feed % Silica Feed Starch Flow Amina Flow Ore Pulp Flow  \\\n",
       "2694        5599          1716      538145     511475        386133   \n",
       "5140        6066           825      233203     316162        406113   \n",
       "2568        5495           174      551055     512085        404297   \n",
       "3671        5599          1716      559082     427979        392739   \n",
       "7427        5966           909      354082     541016        397002   \n",
       "...          ...           ...         ...        ...           ...   \n",
       "2895        5599          1716      513809     571655        401895   \n",
       "7813        5966           909    12379692     583557        398408   \n",
       "905          552          1698      341699     613892        402188   \n",
       "5192        6066           825      242246     392487        401396   \n",
       "235          552          1698      335742     503976        398354   \n",
       "\n",
       "     Ore Pulp pH Ore Pulp Density Flotation Column 01 Air Flow  \\\n",
       "2694      102279           178828                       252246   \n",
       "5140      987982           175867                       251807   \n",
       "2568      102557              178                       248752   \n",
       "3671      100976              168                       248785   \n",
       "7427      989414           175217                       248335   \n",
       "...          ...              ...                          ...   \n",
       "2895      104419           178903                       248027   \n",
       "7813       99486              178                       250225   \n",
       "905       973414              177                        24939   \n",
       "5192      970914           175098                       248137   \n",
       "235       101912           163859                       249944   \n",
       "\n",
       "     Flotation Column 02 Air Flow Flotation Column 03 Air Flow  ...  \\\n",
       "2694                       255981                        24939  ...   \n",
       "5140                       249346                       250269  ...   \n",
       "2568                       252751                       247368  ...   \n",
       "3671                       246797                       250554  ...   \n",
       "7427                       248225                       248335  ...   \n",
       "...                           ...                          ...  ...   \n",
       "2895                        24895                       251455  ...   \n",
       "7813                       247083                       248357  ...   \n",
       "905                        254707                       248291  ...   \n",
       "5192                       251005                       250038  ...   \n",
       "235                        255657                       248427  ...   \n",
       "\n",
       "     Flotation Column 06 Air Flow Flotation Column 07 Air Flow  \\\n",
       "2694                       249829                       249829   \n",
       "5140                       250313                       250752   \n",
       "2568                       249829                       252708   \n",
       "3671                       250291                       249862   \n",
       "7427                       248862                       250862   \n",
       "...                           ...                          ...   \n",
       "2895                       250181                       249829   \n",
       "7813                       250444                       250269   \n",
       "905                        250137                       249917   \n",
       "5192                       247478                       251191   \n",
       "235                        250059                       249693   \n",
       "\n",
       "     Flotation Column 01 Level Flotation Column 02 Level  \\\n",
       "2694                    550037                     54885   \n",
       "5140                    545232                     54715   \n",
       "2568                    547234                     55304   \n",
       "3671                    449113                    480875   \n",
       "7427                    445034                    444178   \n",
       "...                        ...                       ...   \n",
       "2895                    531418                     56165   \n",
       "7813                    541178             2126383571429   \n",
       "905                     559346                     55032   \n",
       "5192                    554491                    563011   \n",
       "235                      45287                    419651   \n",
       "\n",
       "     Flotation Column 03 Level Flotation Column 04 Level  \\\n",
       "2694                     55196                     55781   \n",
       "5140                    541926                    402812   \n",
       "2568                    540468                    538788   \n",
       "3671                    449288                    481583   \n",
       "7427                    440493                    442733   \n",
       "...                        ...                       ...   \n",
       "2895                    561024                      5607   \n",
       "7813                    550233                    565386   \n",
       "905                     553906                     55711   \n",
       "5192                    548401             6655813333333   \n",
       "235                     450319                    481677   \n",
       "\n",
       "     Flotation Column 05 Level Flotation Column 06 Level  \\\n",
       "2694                     56455                     58862   \n",
       "5140                    539326                    543148   \n",
       "2568                    577658                    564988   \n",
       "3671                    464504                    424409   \n",
       "7427                    457535                    455722   \n",
       "...                        ...                       ...   \n",
       "2895                    553758                     56409   \n",
       "7813                    554252                    484394   \n",
       "905                     553756                    551884   \n",
       "5192                    665263                    603012   \n",
       "235                     479311                    432659   \n",
       "\n",
       "     Flotation Column 07 Level % Iron Concentrate  \n",
       "2694                     53796                673  \n",
       "5140                    544808               6408  \n",
       "2568                    558878                676  \n",
       "3671                    440996               6642  \n",
       "7427                    476439               6621  \n",
       "...                        ...                ...  \n",
       "2895                      5298                663  \n",
       "7813                    499889              64565  \n",
       "905                     561138               6685  \n",
       "5192                   6337825               6408  \n",
       "235                     453102               6706  \n",
       "\n",
       "[8000 rows x 22 columns]"
      ]
     },
     "execution_count": 35,
     "metadata": {},
     "output_type": "execute_result"
    }
   ],
   "source": [
    "xtrain"
   ]
  },
  {
   "cell_type": "code",
   "execution_count": 44,
   "metadata": {},
   "outputs": [
    {
     "data": {
      "text/plain": [
       "% Iron Feed                     False\n",
       "% Silica Feed                   False\n",
       "Starch Flow                     False\n",
       "Amina Flow                      False\n",
       "Ore Pulp Flow                   False\n",
       "Ore Pulp pH                     False\n",
       "Ore Pulp Density                False\n",
       "Flotation Column 01 Air Flow    False\n",
       "Flotation Column 02 Air Flow    False\n",
       "Flotation Column 03 Air Flow    False\n",
       "Flotation Column 04 Air Flow    False\n",
       "Flotation Column 05 Air Flow    False\n",
       "Flotation Column 06 Air Flow    False\n",
       "Flotation Column 07 Air Flow    False\n",
       "Flotation Column 01 Level       False\n",
       "Flotation Column 02 Level       False\n",
       "Flotation Column 03 Level       False\n",
       "Flotation Column 04 Level       False\n",
       "Flotation Column 05 Level       False\n",
       "Flotation Column 06 Level       False\n",
       "Flotation Column 07 Level       False\n",
       "% Iron Concentrate              False\n",
       "dtype: bool"
      ]
     },
     "execution_count": 44,
     "metadata": {},
     "output_type": "execute_result"
    }
   ],
   "source": [
    "xtrain.isna().any()"
   ]
  },
  {
   "cell_type": "code",
   "execution_count": 54,
   "metadata": {},
   "outputs": [
    {
     "name": "stdout",
     "output_type": "stream",
     "text": [
      "0.963903906234279\n"
     ]
    }
   ],
   "source": [
    "from sklearn.linear_model import LinearRegression \n",
    "from sklearn.metrics import r2_score\n",
    "\n",
    "clf = LinearRegression(normalize=True)\n",
    "clf.fit(xtrain,ytrain)\n",
    "ypred = clf.predict(xtest)\n",
    "print(r2_score(ytest,ypred))"
   ]
  },
  {
   "cell_type": "code",
   "execution_count": 51,
   "metadata": {},
   "outputs": [
    {
     "ename": "TypeError",
     "evalue": "unsupported operand type(s) for -: 'str' and 'float'",
     "output_type": "error",
     "traceback": [
      "\u001b[1;31m---------------------------------------------------------------------------\u001b[0m",
      "\u001b[1;31mTypeError\u001b[0m                                 Traceback (most recent call last)",
      "\u001b[1;32m<ipython-input-51-e80206d46d1e>\u001b[0m in \u001b[0;36m<module>\u001b[1;34m\u001b[0m\n\u001b[1;32m----> 1\u001b[1;33m \u001b[0merror1\u001b[0m\u001b[1;33m=\u001b[0m\u001b[0mytrain\u001b[0m\u001b[1;33m.\u001b[0m\u001b[0mvalues\u001b[0m\u001b[1;33m.\u001b[0m\u001b[0mreshape\u001b[0m\u001b[1;33m(\u001b[0m\u001b[1;33m-\u001b[0m\u001b[1;36m1\u001b[0m\u001b[1;33m,\u001b[0m\u001b[1;36m1\u001b[0m\u001b[1;33m)\u001b[0m\u001b[1;33m-\u001b[0m\u001b[0mtree1\u001b[0m\u001b[1;33m.\u001b[0m\u001b[0mpredict\u001b[0m\u001b[1;33m(\u001b[0m\u001b[0mxtrain\u001b[0m\u001b[1;33m)\u001b[0m\u001b[1;33m\u001b[0m\u001b[1;33m\u001b[0m\u001b[0m\n\u001b[0m",
      "\u001b[1;31mTypeError\u001b[0m: unsupported operand type(s) for -: 'str' and 'float'"
     ]
    }
   ],
   "source": [
    "###error1=ytrain.values.reshape(-1,1)-tree1.predict(xtrain)"
   ]
  },
  {
   "cell_type": "markdown",
   "metadata": {},
   "source": [
    "tree2=tree.DecisionTreeRegressor(criterion='mse',max_depth=4,random_state=0)\n",
    "tree2.fit(xtrain,error1)\n",
    "tree1.score(xtest,ytest)\n",
    "error2=error1-tree2.predict(xtrain)\n",
    "tree3=tree.DecisionTreeRegressor(criterion='mse',max_depth=4,random_state=0)\n",
    "tree3.fit(xtrain,error2)\n",
    "error3=error2-tree3.predict(xtrain)\n",
    "out=tree1.predict(xtest)+0.1*tree2.predict(xtest)\n",
    "print(out)"
   ]
  },
  {
   "cell_type": "markdown",
   "metadata": {},
   "source": [
    "tree1.fit(xtrain,ytrain.values.reshape(-1,1))"
   ]
  },
  {
   "cell_type": "markdown",
   "metadata": {},
   "source": [
    "error1=ytrain-tree1.predict(xtrain)"
   ]
  },
  {
   "cell_type": "markdown",
   "metadata": {},
   "source": [
    "## graphical represntation"
   ]
  },
  {
   "cell_type": "code",
   "execution_count": 55,
   "metadata": {},
   "outputs": [],
   "source": [
    "import matplotlib.pyplot as plt"
   ]
  },
  {
   "cell_type": "code",
   "execution_count": null,
   "metadata": {},
   "outputs": [],
   "source": []
  },
  {
   "cell_type": "code",
   "execution_count": null,
   "metadata": {},
   "outputs": [],
   "source": []
  },
  {
   "cell_type": "code",
   "execution_count": 59,
   "metadata": {},
   "outputs": [],
   "source": [
    "%matplotlib inline"
   ]
  },
  {
   "cell_type": "code",
   "execution_count": 60,
   "metadata": {},
   "outputs": [],
   "source": [
    "x=df.iloc[:,1]\n"
   ]
  },
  {
   "cell_type": "code",
   "execution_count": 61,
   "metadata": {},
   "outputs": [
    {
     "ename": "NameError",
     "evalue": "name 'y' is not defined",
     "output_type": "error",
     "traceback": [
      "\u001b[1;31m---------------------------------------------------------------------------\u001b[0m",
      "\u001b[1;31mNameError\u001b[0m                                 Traceback (most recent call last)",
      "\u001b[1;32m<ipython-input-61-96635fe7d3cf>\u001b[0m in \u001b[0;36m<module>\u001b[1;34m\u001b[0m\n\u001b[1;32m----> 1\u001b[1;33m \u001b[0mx\u001b[0m\u001b[1;33m,\u001b[0m\u001b[0my\u001b[0m\u001b[1;33m\u001b[0m\u001b[1;33m\u001b[0m\u001b[0m\n\u001b[0m",
      "\u001b[1;31mNameError\u001b[0m: name 'y' is not defined"
     ]
    }
   ],
   "source": [
    "x,y"
   ]
  },
  {
   "cell_type": "code",
   "execution_count": 62,
   "metadata": {},
   "outputs": [],
   "source": [
    "y=df.iloc[:,2]"
   ]
  },
  {
   "cell_type": "code",
   "execution_count": 63,
   "metadata": {},
   "outputs": [
    {
     "data": {
      "image/png": "[encoded data removed]",
      "text/plain": [
       "<Figure size 432x288 with 1 Axes>"
      ]
     },
     "metadata": {
      "needs_background": "light"
     },
     "output_type": "display_data"
    }
   ],
   "source": [
    "\n",
    "plt.plot(y,x,color='r',linewidth=5)\n",
    "plt.ylabel(\"silica feed\")\n",
    "plt.xlabel(\"iron feed\")\n",
    "plt.show()"
   ]
  },
  {
   "cell_type": "markdown",
   "metadata": {},
   "source": [
    "### ore pulp ph vs density\n"
   ]
  },
  {
   "cell_type": "code",
   "execution_count": 64,
   "metadata": {},
   "outputs": [],
   "source": [
    "ph=df.iloc[1:100,6]\n",
    "den=df.iloc[1:100,7]"
   ]
  },
  {
   "cell_type": "code",
   "execution_count": 65,
   "metadata": {},
   "outputs": [
    {
     "data": {
      "image/png": "[encoded data removed]",
      "text/plain": [
       "<Figure size 432x288 with 1 Axes>"
      ]
     },
     "metadata": {
      "needs_background": "light"
     },
     "output_type": "display_data"
    }
   ],
   "source": [
    "plt.plot(ph,den,color='g')\n",
    "plt.xlabel('ph')\n",
    "plt.ylabel('density')\n",
    "plt.title('ore pulp')\n",
    "plt.style.use('dark_background')\n",
    "\n",
    "plt.show()"
   ]
  },
  {
   "cell_type": "code",
   "execution_count": null,
   "metadata": {},
   "outputs": [],
   "source": []
  },
  {
   "cell_type": "code",
   "execution_count": null,
   "metadata": {},
   "outputs": [],
   "source": []
  }
 ],
 "metadata": {
  "kernelspec": {
   "display_name": "Python 3",
   "language": "python",
   "name": "python3"
  },
  "language_info": {
   "codemirror_mode": {
    "name": "ipython",
    "version": 3
   },
   "file_extension": ".py",
   "mimetype": "text/x-python",
   "name": "python",
   "nbconvert_exporter": "python",
   "pygments_lexer": "ipython3",
   "version": "3.8.5"
  }
 },
 "nbformat": 4,
 "nbformat_minor": 4
}
